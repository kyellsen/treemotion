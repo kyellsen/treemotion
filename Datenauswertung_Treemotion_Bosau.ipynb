{
 "cells": [
  {
   "cell_type": "markdown",
   "source": [
    "# Datenauswertung Treemotion Bosau, Messreihe 1"
   ],
   "metadata": {
    "collapsed": false
   }
  },
  {
   "cell_type": "markdown",
   "source": [
    "## Import Packages"
   ],
   "metadata": {
    "collapsed": false
   }
  },
  {
   "cell_type": "code",
   "execution_count": null,
   "outputs": [],
   "source": [
    "import pandas as pd\n",
    "\n",
    "import treemotion\n",
    "from treemotion import config, logger, db_manager, Projekt, Messreihe, Messung, Data, WindMessreihe\n",
    "\n",
    "logger.setLevel(level=\"DEBUG\")"
   ],
   "metadata": {
    "collapsed": false
   }
  },
  {
   "cell_type": "markdown",
   "source": [
    "## Daten-Import\n",
    "\n",
    "Die Datenbank wurde bereits im Vorfeld angelegt.\n",
    "Die Daten zum Messaufbau wurden bereits während der Feldarbeit manuell eingepflegt.\n",
    "Teilweise wurden diese Daten manuell aus Google-Sheets übertragen, weil diese als Online-Anwendung im Baum effizient eingesetzt werden können.\n",
    "Die \"README_database_template_1_0_0_0_data_dictionary.md\" enthält ein DataDictionary mit Beschreibung, Datentyp, Einheit etc.\n",
    "\n",
    "In die folgenden Tabellen wurden die Daten manuell eingepflegt:\n",
    "\n",
    "- Baum\n",
    "- Baumart\n",
    "- BaumBehandlung\n",
    "- BaumBehandlungsVariante\n",
    "- BaumKronensicherung\n",
    "- BaumKronensicherungTyp\n",
    "- Messreihe\n",
    "- Messung (ohne Filenames)\n",
    "- MessungStatus\n",
    "- Projekt\n",
    "- Sensor\n",
    "- SensorOrt\n",
    "- SensorStatus\n",
    "\n",
    "In die folgenden Tabellen werden die Daten automatisiert in den folgenden Schritten durch das TreeMotion-Package importiert:\n",
    "\n",
    "- Messung (filenames werden mit \"treemotion.Projekt.add_filenames()\" hinzugefügt).\n",
    "- Data (enthält Metadaten zu jeder Messung; eine einzelne TMS-Messung kann mehrfach als Data-Objekt erstellt werden, um verschiedene verarbeitet Versionen einer Messung zu speichern; die Verarbeitung der Messung zu Versionen i. d. R. auf der Ebene vonn vollständigen Messreihen)\n",
    "- auto_df_{version}_{id_messung}_messung (automatisch erstellt, enthält DataFrame eines jeden Data-Objekts)\n",
    "- WindMessreihe (Winddaten werden mit \"treemotion.MethodeWindMessreihe.load_from_dwd_online()\" hinzugefügt)\n",
    "- WindMessung (importierte Winddaten für relevanten Zeitraum bzw. Station \"Dörnick\"\n"
   ],
   "metadata": {
    "collapsed": false
   }
  },
  {
   "cell_type": "markdown",
   "source": [
    "### Datenbank-Verbindung, Projekt-Konfiguration und Messreihe\n",
    "\n",
    "Lädt das Projekt inklusive der in Datenbank eingepflegten Metadaten.\n"
   ],
   "metadata": {
    "collapsed": false
   }
  },
  {
   "cell_type": "code",
   "execution_count": null,
   "outputs": [],
   "source": [
    "# Working Directory aus configuration.py übernommen\n",
    "\n",
    "filename_datenbank = r\"Bosau_2022.db\"\n",
    "\n",
    "db_manager.connect(db_filename=filename_datenbank)\n",
    "\n",
    "# Erstellt Liste aller Projekte in Datenbank\n",
    "projekt = Projekt.load_from_db(id_projekt=1)[0]\n",
    "\n",
    "# Selektiere aus Gesamtprojekt die spezifische Messreihe\n",
    "messreihe_1 = projekt.messreihen[0]\n"
   ],
   "metadata": {
    "collapsed": false
   }
  },
  {
   "cell_type": "markdown",
   "source": [
    "### Import Windmessdaten vom DWD"
   ],
   "metadata": {
    "collapsed": false
   }
  },
  {
   "cell_type": "code",
   "execution_count": null,
   "outputs": [],
   "source": [
    "windmessreihe = WindMessreihe.load_from_dwd_online(name=\"Doernick_2022\", stations_id=6163, dec_auto_commit=True,\n",
    "                                                   overwrite=False)"
   ],
   "metadata": {
    "collapsed": false
   }
  },
  {
   "cell_type": "markdown",
   "source": [
    "### Import Raw-CSV-Daten der Messreihe 1\n",
    "\n",
    "Ergänzt auf Basis der Dateinamen und Metadaten in der Datenbank (id_sensor) die Dateipfade zu den Rohdaten."
   ],
   "metadata": {
    "collapsed": false
   }
  },
  {
   "cell_type": "code",
   "execution_count": null,
   "outputs": [],
   "source": [
    "csv_path = r\"C:\\Users\\mail\\Meine Ablage\\Kyellsen\\005_Projekte\\2022_Bosau\\020_Daten\"\n",
    "projekt.add_filenames(csv_path)\n",
    "\n",
    "messreihe_1.load_from_csv(version=\"raw\", overwrite=False, dec_auto_commit=True)  # dec_auto_commit in Datenbank"
   ],
   "metadata": {
    "collapsed": false
   }
  },
  {
   "cell_type": "markdown",
   "source": [
    "## Daten-Exploration\n",
    "\n",
    "Beispielhafter Einblick in einen Data-Frame innerhalb der ersten Messung als Rohdaten"
   ],
   "metadata": {
    "collapsed": false
   }
  },
  {
   "cell_type": "code",
   "execution_count": null,
   "outputs": [],
   "source": [
    "messung = messreihe_1.messungen[0]\n",
    "data = messung.get_data_by_version(version=\"raw\")\n",
    "\n",
    "data.describe()\n",
    "\n",
    "data.df.describe()"
   ],
   "metadata": {
    "collapsed": false
   }
  },
  {
   "cell_type": "markdown",
   "source": [
    "### Data-Validation\n",
    "\n",
    "Hier nur einen erster Blick, welche Messung auffällige Fehler zeigen.\n",
    "Entsprechend wird später selektiert, da ausreichend Messungen bzw. Zeiträume vorliegen"
   ],
   "metadata": {
    "collapsed": false
   }
  },
  {
   "cell_type": "code",
   "execution_count": null,
   "outputs": [],
   "source": [
    "# messreihe_1"
   ],
   "metadata": {
    "collapsed": false
   }
  },
  {
   "cell_type": "markdown",
   "source": [
    "## Data-Cleaning und Preparing"
   ],
   "metadata": {
    "collapsed": false
   }
  },
  {
   "cell_type": "markdown",
   "source": [
    "### Erstelle Arbeitsversion aus Rohdaten\n",
    "\n",
    "Um Rohdaten nicht erneut importieren zu müssen, wird eine Kopie angelegt."
   ],
   "metadata": {
    "collapsed": false
   }
  },
  {
   "cell_type": "code",
   "execution_count": null,
   "outputs": [],
   "source": [
    "messreihe_1_copy = messreihe_1.copy_data_by_version(version_source=\"raw\", version_new=\"3600_sec_tempdrift_emd\",\n",
    "                                                    dec_auto_commit=False)"
   ],
   "metadata": {
    "collapsed": false
   }
  },
  {
   "cell_type": "markdown",
   "source": [
    "### Zeitraum sinnvoll eingrenzen\n",
    "\n",
    "Die Methode findet in allen DataFrames eine definierte Anzahl Maxima in der \"Absoluten Inclination\" (n_peaks).\n",
    "Zu beachten ist, dass hier auf Basis der default Drift-Kompensation von IML Electronics gearbeitet wird.\n",
    "Dann wird für alle Messungen der gleiche Zeitraum ausgewählt (duration in Sekunden; hier 1h).\n",
    "Der Zeitraum wird so gewählt, sodass die Anzahl der Peaks über alle Messung maximal ist.\n",
    "Dadurch wird der Datenumfang reduziert und zugleich gewährleistet, dass ein für alle Messungen geeigneter Zeitraum mit hohen Neigungswerten vorliegt.\n"
   ],
   "metadata": {
    "collapsed": false
   }
  },
  {
   "cell_type": "code",
   "execution_count": null,
   "outputs": [],
   "source": [
    "\n",
    "messreihe_1_copy.limit_time_by_version_and_peaks(version=\"short_3600\", duration=3600, show_peaks=True,\n",
    "                                                 values_col='Absolute-Inclination - drift compensated', n_peaks=10,\n",
    "                                                 min_time_diff=60, dec_auto_commit=True)\n",
    "\n"
   ],
   "metadata": {
    "collapsed": false
   }
  },
  {
   "cell_type": "markdown",
   "source": [
    "### Temperatur-Drift-Kompensation\n",
    "\n"
   ],
   "metadata": {
    "collapsed": false
   }
  },
  {
   "cell_type": "code",
   "execution_count": null,
   "outputs": [],
   "source": [],
   "metadata": {
    "collapsed": false
   }
  },
  {
   "cell_type": "code",
   "execution_count": null,
   "outputs": [],
   "source": [],
   "metadata": {
    "collapsed": false
   }
  },
  {
   "cell_type": "code",
   "execution_count": null,
   "outputs": [],
   "source": [],
   "metadata": {
    "collapsed": false
   }
  },
  {
   "cell_type": "markdown",
   "source": [
    "## Sichere Trennung von Datenbank\n"
   ],
   "metadata": {
    "collapsed": false
   }
  },
  {
   "cell_type": "code",
   "execution_count": null,
   "outputs": [],
   "source": [
    "db_manager.disconnect()\n"
   ],
   "metadata": {
    "collapsed": false
   }
  }
 ],
 "metadata": {
  "kernelspec": {
   "display_name": "Python 3",
   "language": "python",
   "name": "python3"
  },
  "language_info": {
   "codemirror_mode": {
    "name": "ipython",
    "version": 2
   },
   "file_extension": ".py",
   "mimetype": "text/x-python",
   "name": "python",
   "nbconvert_exporter": "python",
   "pygments_lexer": "ipython2",
   "version": "2.7.6"
  }
 },
 "nbformat": 4,
 "nbformat_minor": 0
}
