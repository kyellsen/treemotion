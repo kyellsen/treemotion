{
 "cells": [
  {
   "cell_type": "code",
   "execution_count": null,
   "metadata": {
    "collapsed": true
   },
   "outputs": [],
   "source": [
    "import treemotion\n",
    "from treemotion import db_manager, Projekt, Messreihe, Messung, Data\n",
    "\n",
    "path_db_1 = r\"C:\\Users\\mail\\Meine Ablage\\Kyellsen\\006_Tools\\treemotion\\projekt_test_data\\TREEMOTION.db\"\n",
    "csv_path = r\"C:\\Users\\mail\\Meine Ablage\\Kyellsen\\005_Projekte\\2022_Bosau\\020_Daten\""
   ]
  },
  {
   "cell_type": "code",
   "execution_count": null,
   "outputs": [],
   "source": [
    "db_manager.connect(path_db_1)\n",
    "projekt_list = Projekt.load_from_db()\n",
    "projekt = projekt_list[0]\n",
    "messreihe = projekt.messreihen[0]\n",
    "messung = messreihe.messungen[0]\n",
    "data = messung.load_data_by_version(\"short_1\")\n",
    "df = data.df\n",
    "\n",
    "\n"
   ],
   "metadata": {
    "collapsed": false
   }
  },
  {
   "cell_type": "code",
   "execution_count": null,
   "outputs": [],
   "source": [
    "data.limit_by_time(start_time=\"2022-01-29 00:00:00.039732\", end_time=\"2022-01-29 00:01:00.039732\")\n",
    "\n",
    "\n",
    "# db_manager.commit()"
   ],
   "metadata": {
    "collapsed": false
   }
  },
  {
   "cell_type": "code",
   "execution_count": null,
   "outputs": [],
   "source": [],
   "metadata": {
    "collapsed": false
   }
  }
 ],
 "metadata": {
  "kernelspec": {
   "display_name": "Python 3",
   "language": "python",
   "name": "python3"
  },
  "language_info": {
   "codemirror_mode": {
    "name": "ipython",
    "version": 2
   },
   "file_extension": ".py",
   "mimetype": "text/x-python",
   "name": "python",
   "nbconvert_exporter": "python",
   "pygments_lexer": "ipython2",
   "version": "2.7.6"
  }
 },
 "nbformat": 4,
 "nbformat_minor": 0
}
